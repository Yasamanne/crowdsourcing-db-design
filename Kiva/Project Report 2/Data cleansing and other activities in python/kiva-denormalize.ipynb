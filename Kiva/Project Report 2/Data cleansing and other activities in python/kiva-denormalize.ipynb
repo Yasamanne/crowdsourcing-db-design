{
 "cells": [
  {
   "cell_type": "code",
   "execution_count": null,
   "id": "07d19e8e-39c3-4486-92fc-bcf34a286b1a",
   "metadata": {},
   "outputs": [],
   "source": [
    "import pandas as pd\n",
    "\n",
    "df = pd.read_csv(\"../kiva_loans_unicode.csv\")\n",
    "df1 = pd.read_csv(\"../loan_themes_by_region_unicode.csv\")\n",
    "\n",
    "df2 = pd.read_csv(\"../kiva_mpi_region_locations-unicode.csv\")\n",
    "\n",
    "df3 = pd.read_csv(\"../loan_theme_ids_unicode.csv\")\n",
    "\n",
    "df4 = pd.concat([df,df1,df2,df3], axis=0, ignore_index=True)\n",
    "\n",
    "df4.to_csv(\"../all_kiva.csv\")"
   ]
  }
 ],
 "metadata": {
  "kernelspec": {
   "display_name": "Python 3 (ipykernel)",
   "language": "python",
   "name": "python3"
  },
  "language_info": {
   "codemirror_mode": {
    "name": "ipython",
    "version": 3
   },
   "file_extension": ".py",
   "mimetype": "text/x-python",
   "name": "python",
   "nbconvert_exporter": "python",
   "pygments_lexer": "ipython3",
   "version": "3.9.6"
  }
 },
 "nbformat": 4,
 "nbformat_minor": 5
}
