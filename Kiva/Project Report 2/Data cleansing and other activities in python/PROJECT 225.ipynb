{
 "cells": [
  {
   "cell_type": "code",
   "execution_count": null,
   "id": "51a2b63f",
   "metadata": {},
   "outputs": [],
   "source": [
    "import pandas as pd\n",
    "import matplotlib.pyplot as plt\n",
    "import numpy as np\n",
    "import seaborn as sns\n",
    "import warnings \n",
    "warnings.filterwarnings('ignore')\n"
   ]
  },
  {
   "cell_type": "code",
   "execution_count": null,
   "id": "a5a8cbb5",
   "metadata": {},
   "outputs": [],
   "source": [
    "df = pd.read_csv('kiva_loans.csv')"
   ]
  },
  {
   "cell_type": "code",
   "execution_count": null,
   "id": "030f47ed",
   "metadata": {},
   "outputs": [],
   "source": [
    "data = pandas.read_csv('kiva_loans.csv', encoding='utf-8', quotechar='\"', delimiter=',') "
   ]
  },
  {
   "cell_type": "code",
   "execution_count": null,
   "id": "9cdaf63c",
   "metadata": {},
   "outputs": [],
   "source": [
    "df.info()"
   ]
  },
  {
   "cell_type": "code",
   "execution_count": null,
   "id": "188e2f22",
   "metadata": {},
   "outputs": [],
   "source": [
    "df.describe()"
   ]
  },
  {
   "cell_type": "code",
   "execution_count": null,
   "id": "c0ed9dc5",
   "metadata": {},
   "outputs": [],
   "source": [
    "null  = df.isnull().sum().sort_values(ascending = False).reset_index()\n",
    "null.columns = ['Column', 'Frequency']\n",
    "null"
   ]
  },
  {
   "cell_type": "code",
   "execution_count": null,
   "id": "62e2de04",
   "metadata": {},
   "outputs": [],
   "source": [
    "## tags column consists of 10000 null values so remove the column.\n",
    "df.drop('tags', axis=1,inplace=True)"
   ]
  },
  {
   "cell_type": "code",
   "execution_count": null,
   "id": "495457fc",
   "metadata": {},
   "outputs": [],
   "source": [
    "## this column null values are replaced with the mode \n",
    "df['funded_time'].mode()"
   ]
  },
  {
   "cell_type": "code",
   "execution_count": null,
   "id": "c3843c81",
   "metadata": {},
   "outputs": [],
   "source": [
    "df['borrower_genders'].mode()"
   ]
  },
  {
   "cell_type": "code",
   "execution_count": null,
   "id": "839d73d5",
   "metadata": {},
   "outputs": [],
   "source": [
    "df['funded_time'].fillna(df['funded_time'].mode(), inplace = True)"
   ]
  },
  {
   "cell_type": "code",
   "execution_count": null,
   "id": "567734de",
   "metadata": {},
   "outputs": [],
   "source": [
    "df['borrower_genders'].fillna(df['borrower_genders'].mode(), inplace = True)"
   ]
  },
  {
   "cell_type": "code",
   "execution_count": null,
   "id": "087d0522",
   "metadata": {},
   "outputs": [],
   "source": [
    "df.dropna(inplace = True)"
   ]
  },
  {
   "cell_type": "code",
   "execution_count": null,
   "id": "0b8959f3",
   "metadata": {},
   "outputs": [],
   "source": [
    "df.isna().sum()"
   ]
  },
  {
   "cell_type": "code",
   "execution_count": null,
   "id": "4b17a822",
   "metadata": {},
   "outputs": [],
   "source": [
    "data.to_csv('kiva_mpi_region_locations', encoding='utf-8', index = False)"
   ]
  }
 ],
 "metadata": {
  "kernelspec": {
   "display_name": "Python 3",
   "language": "python",
   "name": "python3"
  },
  "language_info": {
   "codemirror_mode": {
    "name": "ipython",
    "version": 3
   },
   "file_extension": ".py",
   "mimetype": "text/x-python",
   "name": "python",
   "nbconvert_exporter": "python",
   "pygments_lexer": "ipython3",
   "version": "3.8.8"
  }
 },
 "nbformat": 4,
 "nbformat_minor": 5
}
